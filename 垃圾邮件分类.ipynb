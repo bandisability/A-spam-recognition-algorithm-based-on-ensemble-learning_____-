{
 "cells": [
  {
   "cell_type": "code",
   "execution_count": 3,
   "id": "5398f13a",
   "metadata": {},
   "outputs": [],
   "source": [
    "import pandas as pd\n",
    "import numpy as np\n",
    "from collections import Counter\n",
    "from sklearn.model_selection import train_test_split\n",
    "from sklearn.metrics import  precision_score,recall_score,f1_score\n",
    "from collections import Counter\n",
    "from sklearn.naive_bayes import MultinomialNB\n",
    "from sklearn.metrics import confusion_matrix    \n",
    "from sklearn.model_selection import KFold\n",
    "from sklearn import metrics\n",
    "from sklearn import tree\n",
    "from sklearn.feature_extraction.text import CountVectorizer\n",
    "from sklearn.neighbors import KNeighborsClassifier\n",
    "from sklearn.svm import SVC\n",
    "from sklearn.linear_model import LogisticRegression\n",
    "from sklearn.ensemble import RandomForestClassifier\n",
    "from sklearn.ensemble import AdaBoostClassifier\n",
    "from sklearn.ensemble import GradientBoostingClassifier\n",
    "import warnings\n",
    "import matplotlib.pyplot as plt\n",
    "from functools import reduce\n",
    "from tqdm import tqdm"
   ]
  },
  {
   "cell_type": "code",
   "execution_count": 4,
   "id": "c4b09590",
   "metadata": {},
   "outputs": [],
   "source": [
    "train_path = pd.read_csv(\"messages_train.csv\")\n",
    "test_path = pd.read_csv(\"messages_test.csv\")"
   ]
  },
  {
   "cell_type": "code",
   "execution_count": 5,
   "id": "e3d128e4",
   "metadata": {
    "scrolled": true
   },
   "outputs": [
    {
     "name": "stdout",
     "output_type": "stream",
     "text": [
      "0      typology of historical change this note tries ...\n",
      "1      the loll is now available by anonymous ftp to ...\n",
      "2      the department of english of the university of...\n",
      "3      in connection with the recent thread - - initi...\n",
      "4      i ' m not sure if i ' m beating a dead horse ,...\n",
      "                             ...                        \n",
      "795    dear friend , if you received this message in ...\n",
      "796    make thousands of dollars from the spam you ge...\n",
      "797    do you know of a business that needs a cash lo...\n",
      "798    dear friend : this is an extremely important a...\n",
      "799    you can make money or excuses . . . but not bo...\n",
      "Name: message, Length: 800, dtype: object\n"
     ]
    },
    {
     "name": "stderr",
     "output_type": "stream",
     "text": [
      "\r",
      "  0%|                                                                                           | 0/11 [00:00<?, ?it/s]"
     ]
    },
    {
     "name": "stdout",
     "output_type": "stream",
     "text": [
      "————————以下是朴素贝叶斯模型的拟合结果————————\n",
      "————————以下是决策树模型的拟合结果————————\n",
      "————————以下是KNN模型的拟合结果————————\n",
      "————————以下是SVC模型的拟合结果————————\n",
      "————————以下是逻辑回归模型的拟合结果————————\n",
      "————————以下是AdaBoost模型的拟合结果————————\n"
     ]
    },
    {
     "name": "stderr",
     "output_type": "stream",
     "text": [
      "\r",
      "  9%|███████▌                                                                           | 1/11 [00:49<08:11, 49.19s/it]"
     ]
    },
    {
     "name": "stdout",
     "output_type": "stream",
     "text": [
      "————————以下是朴素贝叶斯模型的拟合结果————————\n",
      "————————以下是决策树模型的拟合结果————————\n",
      "————————以下是KNN模型的拟合结果————————\n",
      "————————以下是SVC模型的拟合结果————————\n",
      "————————以下是逻辑回归模型的拟合结果————————\n",
      "————————以下是AdaBoost模型的拟合结果————————\n"
     ]
    },
    {
     "name": "stderr",
     "output_type": "stream",
     "text": [
      "\r",
      " 18%|███████████████                                                                    | 2/11 [01:43<07:51, 52.41s/it]"
     ]
    },
    {
     "name": "stdout",
     "output_type": "stream",
     "text": [
      "————————以下是朴素贝叶斯模型的拟合结果————————\n",
      "————————以下是决策树模型的拟合结果————————\n",
      "————————以下是KNN模型的拟合结果————————\n",
      "————————以下是SVC模型的拟合结果————————\n",
      "————————以下是逻辑回归模型的拟合结果————————\n",
      "————————以下是AdaBoost模型的拟合结果————————\n"
     ]
    },
    {
     "name": "stderr",
     "output_type": "stream",
     "text": [
      "\r",
      " 27%|██████████████████████▋                                                            | 3/11 [03:09<09:00, 67.61s/it]"
     ]
    },
    {
     "name": "stdout",
     "output_type": "stream",
     "text": [
      "————————以下是朴素贝叶斯模型的拟合结果————————\n",
      "————————以下是决策树模型的拟合结果————————\n",
      "————————以下是KNN模型的拟合结果————————\n",
      "————————以下是SVC模型的拟合结果————————\n",
      "————————以下是逻辑回归模型的拟合结果————————\n",
      "————————以下是AdaBoost模型的拟合结果————————\n"
     ]
    },
    {
     "name": "stderr",
     "output_type": "stream",
     "text": [
      "\r",
      " 36%|██████████████████████████████▏                                                    | 4/11 [04:09<07:32, 64.68s/it]"
     ]
    },
    {
     "name": "stdout",
     "output_type": "stream",
     "text": [
      "————————以下是朴素贝叶斯模型的拟合结果————————\n",
      "————————以下是决策树模型的拟合结果————————\n",
      "————————以下是KNN模型的拟合结果————————\n",
      "————————以下是SVC模型的拟合结果————————\n",
      "————————以下是逻辑回归模型的拟合结果————————\n",
      "————————以下是AdaBoost模型的拟合结果————————\n"
     ]
    },
    {
     "name": "stderr",
     "output_type": "stream",
     "text": [
      "\r",
      " 45%|█████████████████████████████████████▋                                             | 5/11 [05:13<06:25, 64.18s/it]"
     ]
    },
    {
     "name": "stdout",
     "output_type": "stream",
     "text": [
      "————————以下是朴素贝叶斯模型的拟合结果————————\n",
      "————————以下是决策树模型的拟合结果————————\n",
      "————————以下是KNN模型的拟合结果————————\n",
      "————————以下是SVC模型的拟合结果————————\n",
      "————————以下是逻辑回归模型的拟合结果————————\n",
      "————————以下是AdaBoost模型的拟合结果————————\n"
     ]
    },
    {
     "name": "stderr",
     "output_type": "stream",
     "text": [
      "\r",
      " 55%|█████████████████████████████████████████████▎                                     | 6/11 [06:20<05:25, 65.19s/it]"
     ]
    },
    {
     "name": "stdout",
     "output_type": "stream",
     "text": [
      "————————以下是朴素贝叶斯模型的拟合结果————————\n",
      "————————以下是决策树模型的拟合结果————————\n",
      "————————以下是KNN模型的拟合结果————————\n",
      "————————以下是SVC模型的拟合结果————————\n",
      "————————以下是逻辑回归模型的拟合结果————————\n",
      "————————以下是AdaBoost模型的拟合结果————————\n"
     ]
    },
    {
     "name": "stderr",
     "output_type": "stream",
     "text": [
      "\r",
      " 64%|████████████████████████████████████████████████████▊                              | 7/11 [07:32<04:29, 67.47s/it]"
     ]
    },
    {
     "name": "stdout",
     "output_type": "stream",
     "text": [
      "————————以下是朴素贝叶斯模型的拟合结果————————\n",
      "————————以下是决策树模型的拟合结果————————\n",
      "————————以下是KNN模型的拟合结果————————\n",
      "————————以下是SVC模型的拟合结果————————\n",
      "————————以下是逻辑回归模型的拟合结果————————\n",
      "————————以下是AdaBoost模型的拟合结果————————\n"
     ]
    },
    {
     "name": "stderr",
     "output_type": "stream",
     "text": [
      "\r",
      " 73%|████████████████████████████████████████████████████████████▎                      | 8/11 [08:46<03:28, 69.57s/it]"
     ]
    },
    {
     "name": "stdout",
     "output_type": "stream",
     "text": [
      "————————以下是朴素贝叶斯模型的拟合结果————————\n",
      "————————以下是决策树模型的拟合结果————————\n",
      "————————以下是KNN模型的拟合结果————————\n",
      "————————以下是SVC模型的拟合结果————————\n",
      "————————以下是逻辑回归模型的拟合结果————————\n",
      "————————以下是AdaBoost模型的拟合结果————————\n"
     ]
    },
    {
     "name": "stderr",
     "output_type": "stream",
     "text": [
      "\r",
      " 82%|███████████████████████████████████████████████████████████████████▉               | 9/11 [10:08<02:26, 73.38s/it]"
     ]
    },
    {
     "name": "stdout",
     "output_type": "stream",
     "text": [
      "————————以下是朴素贝叶斯模型的拟合结果————————\n",
      "————————以下是决策树模型的拟合结果————————\n",
      "————————以下是KNN模型的拟合结果————————\n",
      "————————以下是SVC模型的拟合结果————————\n",
      "————————以下是逻辑回归模型的拟合结果————————\n",
      "————————以下是AdaBoost模型的拟合结果————————\n"
     ]
    },
    {
     "name": "stderr",
     "output_type": "stream",
     "text": [
      "\r",
      " 91%|██████████████████████████████████████████████████████████████████████████▌       | 10/11 [11:34<01:17, 77.30s/it]"
     ]
    },
    {
     "name": "stdout",
     "output_type": "stream",
     "text": [
      "————————以下是朴素贝叶斯模型的拟合结果————————\n",
      "————————以下是决策树模型的拟合结果————————\n",
      "————————以下是KNN模型的拟合结果————————\n",
      "————————以下是SVC模型的拟合结果————————\n",
      "————————以下是逻辑回归模型的拟合结果————————\n",
      "————————以下是AdaBoost模型的拟合结果————————\n"
     ]
    },
    {
     "name": "stderr",
     "output_type": "stream",
     "text": [
      "100%|██████████████████████████████████████████████████████████████████████████████████| 11/11 [13:02<00:00, 71.18s/it]\n"
     ]
    }
   ],
   "source": [
    "def EstablishDictionary(train):\n",
    "    #print(train)\n",
    "    message = train['message'] #获取名字为message列的数据\n",
    "    print(message)\n",
    "    message_list = message.values.tolist()#将csv文件中message列中的数据保存到列表中\n",
    "    all_words = []\n",
    "    for mes in message_list:\n",
    "        words=mes.split()\n",
    "        all_words+=words\n",
    "    dictionary = Counter(all_words)  \n",
    "    dictionary2 = dictionary.keys()\n",
    "    for word in list(dictionary2):#设置去除常见的字\n",
    "        if word.isalpha() == False: del dictionary[word]\n",
    "        elif len(word) == 1:    del dictionary[word]   \n",
    "        elif len(word) == 2:    del dictionary[word]   \n",
    "        elif len(word) >= 16:    del dictionary[word]  # 16可改为18,20等\n",
    "    dictionary = dictionary.most_common(1000)   \n",
    "    return dictionary\n",
    "dictionary = EstablishDictionary(train_path)\n",
    "# print(dictionary)\n",
    "\n",
    "\n",
    "def EstablishDictionary_iter(train,a):\n",
    "    message  = train['message'] #获取名字为message列的数据\n",
    "    message_list = message.values.tolist()#将csv文件中message列中的数据保存到列表中\n",
    "    all_words = []\n",
    "    for mes in message_list:\n",
    "        words=mes.split()\n",
    "        all_words+=words\n",
    "    dictionary = Counter(all_words)  \n",
    "    dictionary2 = dictionary.keys()\n",
    "    for word in list(dictionary2):#设置去除常见的字\n",
    "        if word.isalpha() == False: del dictionary[word]\n",
    "        elif len(word) == 1:    del dictionary[word]   \n",
    "        elif len(word) == 2:    del dictionary[word] \n",
    "        elif len(word) >= 16:    del dictionary[word]  # 16可改为18,20等\n",
    "    dictionary = dictionary.most_common(a)   \n",
    "    return dictionary\n",
    "dictionary_iter=[]\n",
    "# dictionary_iter.append(EstablishDictionary_iter(train_path, ii) for ii in range(1000,2050,100)) \n",
    "# print(dictionary_iter)\n",
    "dictionary_iter=list(EstablishDictionary_iter(train_path, ii) for ii in range(1000,2050,50))\n",
    "\n",
    "\n",
    "def analyse_characters(df):  # 特征分析(不可循环版)(括号内删除,df为pandas导入的messages.csv)\n",
    "    chars_matrix = np.zeros((len(df),1000))  # 特征矩阵 初始化为0,len(df)为行 代表邮件封数,1000代表词典关键词大小\n",
    "    ccc = 0;  # 每读取一封邮件便+1\n",
    "    for x in df['message']:  # x = 邮件内容\n",
    "        words = x.split()  # 分割内容中的每个单词合并成一个列表\n",
    "        for word in words:  # 对列表中每个单词\n",
    "            for index,d in enumerate(dictionary):  # 词典(linenum为序号,d为 (单词,单词次数) )\n",
    "                if d[0] == word:  # 若这个单词与词典中的词相同\n",
    "                    chars_matrix[ccc,index] = words.count(word)  # 调用count方法统计word的个数并赋值给特征矩阵对应位置\n",
    "        ccc += 1  # 每读取一封邮件便+1\n",
    "    return chars_matrix  # 返回特征矩阵\n",
    "\n",
    "\n",
    "def analyse_characters_iter(df, ai, b):  # 特征分析(可循环版)(括号内删除,df为pandas导入的messages.csv, b为迭代词典序号1000,1050记为0,1等)\n",
    "    chars_matrix = np.zeros((len(df), ai))  # 特征矩阵 初始化为0,len(df)为行 代表邮件封数,参数ai代表词典关键词大小\n",
    "    ccc = 0;  # 每读取一封邮件便+1\n",
    "    for x in df['message']:  # x = 邮件内容\n",
    "        words = x.split()  # 分割内容中的每个单词合并成一个列表\n",
    "        for word in words:  # 对列表中每个单词\n",
    "            for index,d in enumerate(dictionary_iter[b]):  # 词典(index为序号,d为 (单词,单词次数) )            555\n",
    "                if d[0] == word:  # 若这个单词与词典中的词相同\n",
    "                    chars_matrix[ccc,index] = words.count(word)  # 调用count方法统计word的个数并赋值给特征矩阵对应位置\n",
    "        ccc += 1  # 每读取一封邮件便+1\n",
    "    return chars_matrix  # 返回特征矩阵\n",
    "# 为每一封邮件和标签准备特征向量\n",
    "\n",
    "AVEF1=[] # 不同ai的平均值，从这里找最大值\n",
    "F1STATUS=[] # 不同ai的状态。用于输出\n",
    "for a in tqdm(range(1000,2050,100)): # 遍历\n",
    "    b=(a-1000)//50\n",
    "    y_train = np.zeros(800)\n",
    "    y_train[640:800] = 1\n",
    "    y_test=np.zeros(200)\n",
    "    y_test[160:200] = 1 \n",
    "    X_train = analyse_characters_iter(train_path,a,b)\n",
    "    # Test the unseen mails for Spam               \n",
    "    X_test = analyse_characters_iter(test_path,a,b)\n",
    "    aveF1Data = []\n",
    "    maxF1Data = []\n",
    "    status=[]\n",
    "    def modeAverageF1(factAI,start,stop,step):\n",
    "        f1Data = []\n",
    "        for factor in np.arange(start,stop,step):\n",
    "            mode = factAI(factor)\n",
    "            mode.fit(X_train,y_train)\n",
    "            result = mode.predict(X_test)\n",
    "            f1Data.append(f1_score(y_test,result, average='weighted'))\n",
    "        return sum(f1Data)/len(f1Data)\n",
    "    def modeMaxF1(factAI,start,stop,step):\n",
    "        f1Data = []\n",
    "        for factor in np.arange(start,stop,step):\n",
    "            mode = factAI(factor)\n",
    "            mode.fit(X_train,y_train)\n",
    "            result = mode.predict(X_test)\n",
    "            f1Data.append(f1_score(y_test,result, average='weighted'))\n",
    "        return max(f1Data),f1Data.index(max(f1Data))*step+start\n",
    "    def modeAverageF1Random(factAI,start,stop,step):\n",
    "        f1Data = []\n",
    "        for factor in np.arange(start,stop,step):\n",
    "            for count in range(3):\n",
    "                mode = factAI(factor)\n",
    "                mode.fit(X_train,y_train)\n",
    "                result = mode.predict(X_test)\n",
    "                f1Data.append(f1_score(y_test,result , average='weighted'))\n",
    "        return sum(f1Data)/len(f1Data)\n",
    "    def modeMaxF1Random(factAI,start,stop,step):\n",
    "        f1Data = []\n",
    "        for factor in np.arange(start,stop,step):\n",
    "            for count in range(3):\n",
    "                mode = factAI(factor)\n",
    "                mode.fit(X_train,y_train)\n",
    "                result = mode.predict(X_test)\n",
    "                f1Data.append(f1_score(y_test,result , average='weighted'))\n",
    "        return max(f1Data),f1Data.index(max(f1Data))*step+start\n",
    "\n",
    "\n",
    "    print(\"————————以下是朴素贝叶斯模型的拟合结果————————\")\n",
    "    model1 = MultinomialNB(alpha=1.0e-10) #多项式朴素贝叶斯模型,且对拉普拉斯平滑系数进行了调参\n",
    "    model1.fit(X_train,y_train)\n",
    "    result1 = model1.predict(X_test)\n",
    "    aveF1Data.append(f1_score(y_test,result1 , average='weighted'))\n",
    "\n",
    "    print(\"————————以下是决策树模型的拟合结果————————\")\n",
    "    model2= tree.DecisionTreeClassifier(criterion='entropy',random_state=0)\n",
    "    model2.fit(X_train,y_train)\n",
    "    result2 = model2.predict(X_test)\n",
    "    aveF1Data.append(f1_score(y_test,result2 , average='weighted'))\n",
    "\n",
    "    print(\"————————以下是KNN模型的拟合结果————————\")\n",
    "    factKNN=lambda fact : KNeighborsClassifier(n_neighbors=fact,weights='uniform',p=2)#n_neighbors从1到30,步长为1\n",
    "    model3=KNeighborsClassifier(n_neighbors=30,weights='uniform',p=2)\n",
    "    model3.fit(X_train,y_train)\n",
    "    result3=model3.predict(X_test)\n",
    "    aveF1Data.append(modeAverageF1(factKNN,1,30,1))\n",
    "    status.append(modeMaxF1(factKNN,1,30,1))\n",
    "    maxF1Data.append(status[-1][0])\n",
    "\n",
    "    print(\"————————以下是SVC模型的拟合结果————————\")\n",
    "    factSVC=lambda fact : SVC(kernel='linear',random_state=1,C=fact)# C从0.1到1,步长为0.1\n",
    "    model4=SVC(kernel='linear',random_state=1,C=1)# C从0.1到1,步长为0.1\n",
    "    model4.fit(X_train,y_train)\n",
    "    result4 = model4.predict(X_test)\n",
    "    aveF1Data.append(modeAverageF1(factSVC,0.1,1,0.1))\n",
    "    status.append(modeMaxF1(factSVC,0.1,1,0.1))\n",
    "    maxF1Data.append(status[-1][0])\n",
    "\n",
    "    print(\"————————以下是逻辑回归模型的拟合结果————————\")\n",
    "    factLG=lambda fact : LogisticRegression(penalty='l2', C=fact,solver='lbfgs',tol=0.0001)#C从0.1到1,步长为0.1\n",
    "    model5=LogisticRegression(penalty='l2', C=1.0,solver='lbfgs',tol=0.0001,)\n",
    "    model5.fit(X_train,y_train)\n",
    "    result5 = model5.predict(X_test)\n",
    "    aveF1Data.append(modeAverageF1(factLG,0.1,1,0.1))\n",
    "    status.append(modeMaxF1(factLG,0.1,1,0.1))\n",
    "    maxF1Data.append(status[-1][0])\n",
    "\n",
    "\n",
    "    print(\"————————以下是AdaBoost模型的拟合结果————————\")\n",
    "    #测五组,(50,2),(100,1),(200,0.5),(300,0.33),(500,0.2)\n",
    "    model7=AdaBoostClassifier(n_estimators=100,learning_rate=1)\n",
    "    model7.fit(X_train,y_train)\n",
    "    result7 = model7.predict(X_test)\n",
    "    points=[(50,2),(100,1),(200,0.5),(300,0.33),(500,0.2)]\n",
    "    Max=0\n",
    "    Mpoint=None\n",
    "    f1Data = []\n",
    "    for pair in points:\n",
    "        mode = AdaBoostClassifier(n_estimators=pair[0],learning_rate=pair[1])\n",
    "        mode.fit(X_train,y_train)\n",
    "        result = mode.predict(X_test)\n",
    "        f1Data.append(f1_score(y_test,result, average='weighted'))\n",
    "        if(f1Data[-1]>Max):\n",
    "            Max=f1Data[-1]\n",
    "            Mpoint=pair\n",
    "    aveF1Data.append(sum(f1Data)/len(f1Data))\n",
    "    status.append((Max,Mpoint))\n",
    "    maxF1Data.append(status[-1][0])\n",
    "\n",
    "    AVEF1.append(sum(maxF1Data)/len(maxF1Data))\n",
    "    F1STATUS.append(status)"
   ]
  },
  {
   "cell_type": "code",
   "execution_count": 6,
   "id": "2acda2a8",
   "metadata": {},
   "outputs": [
    {
     "data": {
      "image/png": "[encoded data removed]",
      "text/plain": [
       "<Figure size 432x288 with 1 Axes>"
      ]
     },
     "metadata": {
      "needs_background": "light"
     },
     "output_type": "display_data"
    },
    {
     "name": "stdout",
     "output_type": "stream",
     "text": [
      "极大值点a： 1400\n",
      "极大值模型：\n",
      "KNN:9\n",
      "SVC:0.7000000000000001\n",
      "LogisticRegression:0.2\n",
      "AdaBoost:(500, 0.2)\n"
     ]
    }
   ],
   "source": [
    "nameList=[\n",
    "    \"MultinomialNB\",\"DecisionTree\",\n",
    "    \"KNN\",\"SVC\",\"LogisticRegression\",\n",
    "    \"AdaBoost\"] \n",
    "\n",
    "plt.plot(range(1000,2050,100),AVEF1)\n",
    "plt.show()\n",
    "amax=max(AVEF1)\n",
    "print(\"极大值点a：\",AVEF1.index(amax)*100+1000)\n",
    "BestCondition=F1STATUS[AVEF1.index(amax)]\n",
    "print(\"极大值模型：\")\n",
    "for i in range(4):  # 4个算法\n",
    "    print(nameList[2:][i]+':'+str(BestCondition[i][1]))\n",
    "\n",
    "# plt.bar(nameList, BestCondition) #画最优状况下的各点\n",
    "# plt.show()\n",
    "\n"
   ]
  },
  {
   "cell_type": "code",
   "execution_count": 7,
   "id": "2870a003",
   "metadata": {},
   "outputs": [],
   "source": [
    "y_train = np.zeros(800)\n",
    "y_train[640:800] = 1\n",
    "y_test=np.zeros(200)\n",
    "y_test[160:200] = 1 \n",
    "X_train = analyse_characters(train_path)             \n",
    "X_test = analyse_characters(test_path)"
   ]
  },
  {
   "cell_type": "code",
   "execution_count": 8,
   "id": "4f19183c",
   "metadata": {},
   "outputs": [
    {
     "name": "stdout",
     "output_type": "stream",
     "text": [
      "————————以下是朴素贝叶斯模型的拟合结果————————\n",
      "[[158   2]\n",
      " [  2  38]]\n",
      "朴素贝叶斯模型的查准率为：\n",
      "0.96875\n",
      "朴素贝叶斯模型的查全率为：\n",
      "0.98\n",
      "朴素贝叶斯模型的F1值为：\n",
      "0.98\n",
      "————————以下是决策树模型的拟合结果————————\n",
      "[[148  12]\n",
      " [  1  39]]\n",
      "决策树模型的查准率为：\n",
      "0.8789972364784839\n",
      "决策树模型的查全率为：\n",
      "0.935\n",
      "决策树模型的F1值为：\n",
      "0.9377716134997688\n",
      "————————以下是KNN模型的拟合结果————————\n",
      "[[156   4]\n",
      " [  9  31]]\n",
      "KNN模型的查准率为：\n",
      "0.9155844155844155\n",
      "KNN模型的查全率为：\n",
      "0.935\n",
      "KNN模型的F1值为：\n",
      "0.9333333333333332\n",
      "————————以下是SVC模型的拟合结果————————\n",
      "[[158   2]\n",
      " [  2  38]]\n",
      "SVC模型的查准率为：\n",
      "0.96875\n",
      "SVC模型的查全率为：\n",
      "0.98\n",
      "SVC模型的F1值为：\n",
      "0.98\n",
      "————————以下是逻辑回归模型的拟合结果————————\n",
      "[[159   1]\n",
      " [  4  36]]\n",
      "逻辑回归模型的查准率为：\n",
      "0.9742165478361797\n",
      "逻辑回归模型的查全率为：\n",
      "0.975\n",
      "逻辑回归模型的F1值为：\n",
      "0.9746290860841944\n",
      "————————以下是随机森林模型的拟合结果————————\n",
      "[[158   2]\n",
      " [  3  37]]\n",
      "随机森林模型的查准率为：\n",
      "0.965042204172639\n",
      "随机森林模型的查全率为：\n",
      "0.975\n",
      "随机森林模型的F1值为：\n",
      "0.9748807129618676\n",
      "————————以下是AdaBoost模型的拟合结果————————\n",
      "[[155   5]\n",
      " [  0  40]]\n",
      "AdaBoost模型的查准率为：\n",
      "0.9444444444444444\n",
      "AdaBoost模型的查全率为：\n",
      "0.975\n",
      "AdaBoost模型的F1值为：\n",
      "0.9755368814192343\n",
      "————————以下是梯度提升树模型的拟合结果————————\n",
      "[[157   3]\n",
      " [  6  34]]\n",
      "梯度提升树模型的查准率为：\n",
      "0.9410545514839994\n",
      "梯度提升树模型的查全率为：\n",
      "0.955\n",
      "梯度提升树模型的F1值为：\n",
      "0.9543323549515499\n"
     ]
    }
   ],
   "source": [
    "print(\"————————以下是朴素贝叶斯模型的拟合结果————————\")\n",
    "model1 = MultinomialNB(alpha=1.0e-10) \n",
    "model1.fit(X_train,y_train)\n",
    "result1 = model1.predict(X_test)\n",
    "print(confusion_matrix(y_test,result1))\n",
    "print(\"朴素贝叶斯模型的查准率为：\")\n",
    "print(precision_score(y_test,result1,average='macro'))\n",
    "print(\"朴素贝叶斯模型的查全率为：\")\n",
    "print(recall_score(y_test,result1, average='micro'))\n",
    "print(\"朴素贝叶斯模型的F1值为：\")\n",
    "print(f1_score(y_test,result1 , average='weighted'))\n",
    "    \n",
    "print(\"————————以下是决策树模型的拟合结果————————\")\n",
    "model2= tree.DecisionTreeClassifier(criterion='entropy')\n",
    "model2.fit(X_train,y_train)\n",
    "result2 = model2.predict(X_test)\n",
    "print(confusion_matrix(y_test,result2))\n",
    "print(\"决策树模型的查准率为：\")\n",
    "print(precision_score(y_test,result2,average='macro'))\n",
    "print(\"决策树模型的查全率为：\")\n",
    "print(recall_score(y_test,result2, average='micro'))\n",
    "print(\"决策树模型的F1值为：\")\n",
    "print(f1_score(y_test,result2 , average='weighted'))\n",
    "\n",
    "print(\"————————以下是KNN模型的拟合结果————————\")\n",
    "model3=KNeighborsClassifier(n_neighbors=9,weights='uniform',p=2)\n",
    "model3.fit(X_train,y_train)\n",
    "result3=model3.predict(X_test)\n",
    "print(confusion_matrix(y_test,result3))\n",
    "print(\"KNN模型的查准率为：\")\n",
    "print(precision_score(y_test,result3,average='macro'))\n",
    "print(\"KNN模型的查全率为：\")\n",
    "print(recall_score(y_test,result3, average='micro'))\n",
    "print(\"KNN模型的F1值为：\")\n",
    "print(f1_score(y_test,result3 , average='weighted'))\n",
    "\n",
    "print(\"————————以下是SVC模型的拟合结果————————\")\n",
    "model4=SVC(kernel='linear',random_state=1,C=0.7)\n",
    "model4.fit(X_train,y_train)\n",
    "result4 = model4.predict(X_test)\n",
    "print(confusion_matrix(y_test,result4))\n",
    "print(\"SVC模型的查准率为：\")\n",
    "print(precision_score(y_test,result4,average='macro'))\n",
    "print(\"SVC模型的查全率为：\")\n",
    "print(recall_score(y_test,result4, average='micro'))\n",
    "print(\"SVC模型的F1值为：\")\n",
    "print(f1_score(y_test,result4 , average='weighted'))\n",
    "\n",
    "print(\"————————以下是逻辑回归模型的拟合结果————————\")\n",
    "model5=LogisticRegression(penalty='l2', C=0.2,solver='lbfgs',tol=0.0001,)\n",
    "model5.fit(X_train,y_train)\n",
    "result5 = model5.predict(X_test)\n",
    "print(confusion_matrix(y_test,result5))\n",
    "print(\"逻辑回归模型的查准率为：\")\n",
    "print(precision_score(y_test,result5,average='macro'))\n",
    "print(\"逻辑回归模型的查全率为：\")\n",
    "print(recall_score(y_test,result5, average='micro'))\n",
    "print(\"逻辑回归模型的F1值为：\")\n",
    "print(f1_score(y_test,result5 , average='weighted'))\n",
    "\n",
    "print(\"————————以下是随机森林模型的拟合结果————————\")\n",
    "model6=RandomForestClassifier(n_estimators=200,criterion='entropy')\n",
    "model6.fit(X_train,y_train)\n",
    "result6 = model6.predict(X_test)\n",
    "print(confusion_matrix(y_test,result6))\n",
    "print(\"随机森林模型的查准率为：\")\n",
    "print(precision_score(y_test,result6,average='macro'))\n",
    "print(\"随机森林模型的查全率为：\")\n",
    "print(recall_score(y_test,result6, average='micro'))\n",
    "print(\"随机森林模型的F1值为：\")\n",
    "print(f1_score(y_test,result6 , average='weighted'))\n",
    "\n",
    "print(\"————————以下是AdaBoost模型的拟合结果————————\")\n",
    "model7=AdaBoostClassifier(n_estimators=500,learning_rate=0.2)\n",
    "model7.fit(X_train,y_train)\n",
    "result7 = model7.predict(X_test)\n",
    "print(confusion_matrix(y_test,result7))\n",
    "print(\"AdaBoost模型的查准率为：\")\n",
    "print(precision_score(y_test,result7,average='macro'))\n",
    "print(\"AdaBoost模型的查全率为：\")\n",
    "print(recall_score(y_test,result7, average='micro'))\n",
    "print(\"AdaBoost模型的F1值为：\")\n",
    "print(f1_score(y_test,result7 , average='weighted'))\n",
    "\n",
    "print(\"————————以下是梯度提升树模型的拟合结果————————\")\n",
    "model8=GradientBoostingClassifier(n_estimators=100,learning_rate=1)\n",
    "model8.fit(X_train,y_train)\n",
    "result8 = model8.predict(X_test)\n",
    "print(confusion_matrix(y_test,result8))\n",
    "print(\"梯度提升树模型的查准率为：\")\n",
    "print(precision_score(y_test,result8,average='macro'))\n",
    "print(\"梯度提升树模型的查全率为：\")\n",
    "print(recall_score(y_test,result8, average='micro'))\n",
    "print(\"梯度提升树模型的F1值为：\")\n",
    "print(f1_score(y_test,result8 , average='weighted'))\n"
   ]
  },
  {
   "cell_type": "code",
   "execution_count": 9,
   "id": "e0031361",
   "metadata": {},
   "outputs": [
    {
     "data": {
      "image/png": "[encoded data removed]",
      "text/plain": [
       "<Figure size 432x288 with 1 Axes>"
      ]
     },
     "metadata": {
      "needs_background": "light"
     },
     "output_type": "display_data"
    },
    {
     "name": "stdout",
     "output_type": "stream",
     "text": [
      "[0.98, 0.9377716134997688, 0.9849284277771205]\n"
     ]
    },
    {
     "data": {
      "image/png": "[encoded data removed]",
      "text/plain": [
       "<Figure size 432x288 with 1 Axes>"
      ]
     },
     "metadata": {
      "needs_background": "light"
     },
     "output_type": "display_data"
    },
    {
     "name": "stdout",
     "output_type": "stream",
     "text": [
      "[0.9333333333333332, 0.98, 0.9373983739837399]\n"
     ]
    },
    {
     "data": {
      "image/png": "[encoded data removed]",
      "text/plain": [
       "<Figure size 432x288 with 1 Axes>"
      ]
     },
     "metadata": {
      "needs_background": "light"
     },
     "output_type": "display_data"
    },
    {
     "name": "stdout",
     "output_type": "stream",
     "text": [
      "[0.9746290860841944, 0.9748807129618676, 0.9641025641025641]\n"
     ]
    },
    {
     "data": {
      "image/png": "[encoded data removed]",
      "text/plain": [
       "<Figure size 432x288 with 1 Axes>"
      ]
     },
     "metadata": {
      "needs_background": "light"
     },
     "output_type": "display_data"
    },
    {
     "name": "stdout",
     "output_type": "stream",
     "text": [
      "[0.9755368814192343, 0.9543323549515499, 0.9591942820012995]\n"
     ]
    },
    {
     "data": {
      "image/png": "[encoded data removed]",
      "text/plain": [
       "<Figure size 432x288 with 1 Axes>"
      ]
     },
     "metadata": {
      "needs_background": "light"
     },
     "output_type": "display_data"
    },
    {
     "name": "stdout",
     "output_type": "stream",
     "text": [
      "[0.98, 0.9377716134997688, 0.9332015810276679]\n"
     ]
    },
    {
     "data": {
      "image/png": "[encoded data removed]",
      "text/plain": [
       "<Figure size 432x288 with 1 Axes>"
      ]
     },
     "metadata": {
      "needs_background": "light"
     },
     "output_type": "display_data"
    },
    {
     "name": "stdout",
     "output_type": "stream",
     "text": [
      "[0.9333333333333332, 0.98, 0.9753335106989474]\n"
     ]
    },
    {
     "data": {
      "image/png": "[encoded data removed]",
      "text/plain": [
       "<Figure size 432x288 with 1 Axes>"
      ]
     },
     "metadata": {
      "needs_background": "light"
     },
     "output_type": "display_data"
    },
    {
     "name": "stdout",
     "output_type": "stream",
     "text": [
      "[0.9746290860841944, 0.9748807129618676, 0.9850690816208058]\n"
     ]
    },
    {
     "data": {
      "image/png": "[encoded data removed]",
      "text/plain": [
       "<Figure size 432x288 with 1 Axes>"
      ]
     },
     "metadata": {
      "needs_background": "light"
     },
     "output_type": "display_data"
    },
    {
     "name": "stdout",
     "output_type": "stream",
     "text": [
      "[0.9755368814192343, 0.9543323549515499, 0.9707598874240854]\n"
     ]
    },
    {
     "data": {
      "image/png": "[encoded data removed]",
      "text/plain": [
       "<Figure size 432x288 with 1 Axes>"
      ]
     },
     "metadata": {
      "needs_background": "light"
     },
     "output_type": "display_data"
    },
    {
     "name": "stdout",
     "output_type": "stream",
     "text": [
      "[0.98, 0.9377716134997688, 0.9333333333333332, 0.9850690816208058]\n"
     ]
    },
    {
     "data": {
      "image/png": "[encoded data removed]",
      "text/plain": [
       "<Figure size 432x288 with 1 Axes>"
      ]
     },
     "metadata": {
      "needs_background": "light"
     },
     "output_type": "display_data"
    },
    {
     "name": "stdout",
     "output_type": "stream",
     "text": [
      "[0.98, 0.9746290860841944, 0.9748807129618676, 0.9849284277771205]\n"
     ]
    },
    {
     "data": {
      "image/png": "[encoded data removed]",
      "text/plain": [
       "<Figure size 432x288 with 1 Axes>"
      ]
     },
     "metadata": {
      "needs_background": "light"
     },
     "output_type": "display_data"
    },
    {
     "name": "stdout",
     "output_type": "stream",
     "text": [
      "[0.98, 0.9377716134997688, 0.9333333333333332, 0.98, 0.9899028507724159]\n"
     ]
    },
    {
     "data": {
      "image/png": "[encoded data removed]",
      "text/plain": [
       "<Figure size 432x288 with 1 Axes>"
      ]
     },
     "metadata": {
      "needs_background": "light"
     },
     "output_type": "display_data"
    },
    {
     "name": "stdout",
     "output_type": "stream",
     "text": [
      "[0.9746290860841944, 0.9748807129618676, 0.9755368814192343, 0.9543323549515499, 0.9748807129618676]\n"
     ]
    }
   ],
   "source": [
    "def ANDresult (r1,r2):#两个预测中均判定为垃圾才为垃圾\n",
    "    newResult=[]\n",
    "    for i in range(len(r1)):\n",
    "        newResult.append(r1[i] and r2[i])\n",
    "    return newResult\n",
    "\n",
    "def ORresult (r1,r2):#两个预测中有一个判定为垃圾便为垃圾\n",
    "    newResult=[]\n",
    "    for i in range(len(r1)):\n",
    "        newResult.append(r1[i] or r2[i])\n",
    "    return newResult   \n",
    "\n",
    "def ADDresult (vr,base): # vr是result列表， base是有1的列表数量\n",
    "    newResult=[]\n",
    "    for i in range(len(vr[0])):\n",
    "        tmp=(reduce(lambda sum,r: sum+r[i], vr,0))\n",
    "        newResult.append(tmp>=base)\n",
    "    return newResult\n",
    "\n",
    "resultList=[ #   八个结果汇聚成列表\n",
    "    result1,result2,\n",
    "    result3,result4, \n",
    "    result5,result6,\n",
    "    result7,result8\n",
    "]\n",
    "#*************************************利用两个算法协同判断***********************************\n",
    "resultCOR=ANDresult(result1,result2) # “杂合”的结果\n",
    "checkList1=[    # 用于打点\n",
    "f1_score(y_test,result1 , average='weighted'),\n",
    "f1_score(y_test,result2 , average='weighted'),\n",
    "f1_score(y_test,resultCOR,average='weighted')\n",
    "]\n",
    "plt.bar([\"result1\",\"result2\",\"resultCOR\"],checkList1)\n",
    "plt.show()\n",
    "print(checkList1)\n",
    "\n",
    "resultCOR=ANDresult(result3,result4) # “杂合”的结果\n",
    "checkList1=[    # 用于打点\n",
    "f1_score(y_test,result3 , average='weighted'),\n",
    "f1_score(y_test,result4 , average='weighted'),\n",
    "f1_score(y_test,resultCOR,average='weighted')\n",
    "]\n",
    "plt.bar([\"result3\",\"result4\",\"resultCOR\"],checkList1)\n",
    "plt.show()\n",
    "print(checkList1)\n",
    "\n",
    "resultCOR=ANDresult(result5,result6) # “杂合”的结果\n",
    "checkList1=[    # 用于打点\n",
    "f1_score(y_test,result5 , average='weighted'),\n",
    "f1_score(y_test,result6 , average='weighted'),\n",
    "f1_score(y_test,resultCOR,average='weighted')\n",
    "]\n",
    "plt.bar([\"result5\",\"result6\",\"resultCOR\"],checkList1)\n",
    "plt.show()\n",
    "print(checkList1)\n",
    "\n",
    "resultCOR=ANDresult(result7,result8) # “杂合”的结果\n",
    "checkList1=[    # 用于打点\n",
    "f1_score(y_test,result7 , average='weighted'),\n",
    "f1_score(y_test,result8 , average='weighted'),\n",
    "f1_score(y_test,resultCOR,average='weighted')\n",
    "]\n",
    "plt.bar([\"result7\",\"result8\",\"resultCOR\"],checkList1)\n",
    "plt.show()\n",
    "print(checkList1)\n",
    "#*************************************利用两个算法协同判断***********************************\n",
    "resultCOR=ORresult(result1,result2) # “杂合”的结果\n",
    "checkList1=[    # 用于打点\n",
    "f1_score(y_test,result1 , average='weighted'),\n",
    "f1_score(y_test,result2 , average='weighted'),\n",
    "f1_score(y_test,resultCOR,average='weighted')\n",
    "]\n",
    "plt.bar([\"result1\",\"result2\",\"resultCOR\"],checkList1)\n",
    "plt.show()\n",
    "print(checkList1)\n",
    "\n",
    "resultCOR=ORresult(result3,result4) # “杂合”的结果\n",
    "checkList1=[    # 用于打点\n",
    "f1_score(y_test,result3 , average='weighted'),\n",
    "f1_score(y_test,result4 , average='weighted'),\n",
    "f1_score(y_test,resultCOR,average='weighted')\n",
    "]\n",
    "plt.bar([\"result3\",\"result4\",\"resultCOR\"],checkList1)\n",
    "plt.show()\n",
    "print(checkList1)\n",
    "\n",
    "resultCOR=ORresult(result5,result6) # “杂合”的结果\n",
    "checkList1=[    # 用于打点\n",
    "f1_score(y_test,result5 , average='weighted'),\n",
    "f1_score(y_test,result6 , average='weighted'),\n",
    "f1_score(y_test,resultCOR,average='weighted')\n",
    "]\n",
    "plt.bar([\"result5\",\"result6\",\"resultCOR\"],checkList1)\n",
    "plt.show()\n",
    "print(checkList1)\n",
    "\n",
    "resultCOR=ORresult(result7,result8) # “杂合”的结果\n",
    "checkList1=[    # 用于打点\n",
    "f1_score(y_test,result7 , average='weighted'),\n",
    "f1_score(y_test,result8 , average='weighted'),\n",
    "f1_score(y_test,resultCOR,average='weighted')\n",
    "]\n",
    "plt.bar([\"result7\",\"result8\",\"resultCOR\"],checkList1)\n",
    "plt.show()\n",
    "print(checkList1)\n",
    "#*************************************利用三个算法协同判断***********************************\n",
    "checkList2=list(map(lambda r : f1_score(y_test,r,average='weighted'),resultList[:3]))\n",
    "checkList2+=[\n",
    "f1_score(y_test,ADDresult(resultList[:3],2),average='weighted') #取前3个结果，要求至少2个为1\n",
    "]\n",
    "plt.bar([\"result1\",\"result2\",\"result3\",\"resultCOR\"],checkList2)\n",
    "plt.show()\n",
    "print(checkList2)\n",
    "\n",
    "checkList2=list(map(lambda r : f1_score(y_test,r,average='weighted'),resultList[3:6]))\n",
    "checkList2+=[\n",
    "f1_score(y_test,ADDresult(resultList[3:6],2),average='weighted') #取前3个结果，要求至少2个为1\n",
    "]\n",
    "plt.bar([\"result4\",\"result5\",\"result6\",\"resultCOR\"],checkList2)\n",
    "plt.show()\n",
    "print(checkList2)\n",
    "#*************************************利用四个算法协同判断***********************************\n",
    "checkList2=list(map(lambda r : f1_score(y_test,r,average='weighted'),resultList[:4]))\n",
    "checkList2+=[\n",
    "f1_score(y_test,ADDresult(resultList[:4],3),average='weighted') #取前4个结果，要求至少3个为1\n",
    "]\n",
    "plt.bar([\"result1\",\"result2\",\"result3\",\"result4\",\"resultCOR\"],checkList2)\n",
    "plt.show()\n",
    "print(checkList2)\n",
    "\n",
    "checkList2=list(map(lambda r : f1_score(y_test,r,average='weighted'),resultList[4:]))\n",
    "checkList2+=[\n",
    "f1_score(y_test,ADDresult(resultList[4:],3),average='weighted') #取后4个结果，要求至少3个为1\n",
    "]\n",
    "plt.bar([\"result5\",\"result6\",\"result7\",\"result8\",\"resultCOR\"],checkList2)\n",
    "plt.show()\n",
    "print(checkList2)"
   ]
  },
  {
   "cell_type": "code",
   "execution_count": 10,
   "id": "6389b23d",
   "metadata": {},
   "outputs": [
    {
     "data": {
      "image/png": "[encoded data removed]",
      "text/plain": [
       "<Figure size 432x288 with 1 Axes>"
      ]
     },
     "metadata": {
      "needs_background": "light"
     },
     "output_type": "display_data"
    },
    {
     "name": "stdout",
     "output_type": "stream",
     "text": [
      "0.1000\t0.7000\t0.0500\t0.1500\t最优f1值: 0.99\n"
     ]
    },
    {
     "data": {
      "image/png": "[encoded data removed]",
      "text/plain": [
       "<Figure size 432x288 with 1 Axes>"
      ]
     },
     "metadata": {
      "needs_background": "light"
     },
     "output_type": "display_data"
    },
    {
     "name": "stdout",
     "output_type": "stream",
     "text": [
      "0.1000\t0.1500\t0.7000\t0.0500\t最优f1值: 0.99\n"
     ]
    },
    {
     "data": {
      "image/png": "[encoded data removed]",
      "text/plain": [
       "<Figure size 432x288 with 1 Axes>"
      ]
     },
     "metadata": {
      "needs_background": "light"
     },
     "output_type": "display_data"
    },
    {
     "name": "stdout",
     "output_type": "stream",
     "text": [
      "0.1500\t0.1500\t0.0500\t0.0500\t0.0500\t0.0500\t0.4500\t0.0500\t最优f1值: 0.99\n"
     ]
    }
   ],
   "source": [
    "#*************************************利用四个算法协同判断,并求得最优参数***********************************\n",
    "def combine4Result(vecResult,pivot):\n",
    "    maxF1=-1\n",
    "    maxStatus=None\n",
    "    for i in np.arange(0.05,0.85,0.05):\n",
    "        for j in np.arange(0.05,0.85,0.05):\n",
    "            for k in np.arange(0.05,0.85,0.05):\n",
    "                for l in np.arange(0.05,0.85,0.05):\n",
    "                    if i+j+k+l==1:\n",
    "                        weightedResult=[\n",
    "                            vecResult[0]*i,vecResult[1]*j,\n",
    "                            vecResult[2]*k,vecResult[3]*l\n",
    "                        ]\n",
    "                        sumResult=reduce(lambda sumr,r:sumr+r,weightedResult)\n",
    "                        ansResult=list(map(lambda x: 1 if x>=pivot else 0,sumResult))\n",
    "                        f1=f1_score(y_test,ansResult,average='weighted') \n",
    "                        if f1>maxF1:\n",
    "                            maxF1=f1\n",
    "                            maxStatus=[i,j,k,l]\n",
    "    return (maxF1,maxStatus)\n",
    "#*************************************利用八个算法协同判断,并求得最优参数***********************************\n",
    "def combine8Result(vecResult,pivot):\n",
    "    maxF1=-1\n",
    "    maxStatus=None\n",
    "    for i in np.arange(0.05,0.65,0.1):\n",
    "        for j in np.arange(0.05,0.65,0.1):\n",
    "            for k in np.arange(0.05,0.65,0.1):\n",
    "                for l in np.arange(0.05,0.65,0.1):\n",
    "                    for a in np.arange(0.05,0.65,0.1):\n",
    "                        for b in np.arange(0.05,0.65,0.1):\n",
    "                            for c in np.arange(0.05,0.65,0.1):\n",
    "                                for d in np.arange(0.05,0.65,0.1):\n",
    "                                    if i+j+k+l+a+b+c+d==1:\n",
    "                                        weightedResult=[\n",
    "                                            vecResult[0]*i,vecResult[1]*j,\n",
    "                                            vecResult[2]*k,vecResult[3]*l,\n",
    "                                            vecResult[4]*a,vecResult[5]*b,\n",
    "                                            vecResult[6]*c,vecResult[7]*d\n",
    "                                        ]\n",
    "                                        sumResult=reduce(lambda sumr,r:sumr+r,weightedResult)\n",
    "                                        ansResult=list(map(lambda x: 1 if x>=pivot else 0,sumResult))\n",
    "                                        f1=f1_score(y_test,ansResult,average='weighted') \n",
    "                                        if f1>maxF1:\n",
    "                                            maxF1=f1\n",
    "                                            maxStatus=[i,j,k,l,a,b,c,d]\n",
    "    return (maxF1,maxStatus)\n",
    "#*************************************利用四个算法协同判断,并求得最优参数***********************************\n",
    "c4=combine4Result(resultList[:4],0.8)\n",
    "checkList3=list(map(lambda r : f1_score(y_test,r,average='weighted'),resultList[:4]))+[c4[0]]\n",
    "plt.bar([\"result1\",\"result2\",\"result3\",\"result4\",\"resultPIV\"],checkList3)\n",
    "plt.show()\n",
    "for i in range(len(checkList3)-1):\n",
    "    print(\"%.4f\"%c4[1][i],end='\\t')\n",
    "print(\"最优f1值:\",c4[0])\n",
    "\n",
    "c5=combine4Result(resultList[4:],0.8)\n",
    "checkList3=list(map(lambda r : f1_score(y_test,r,average='weighted'),resultList[4:]))+[c5[0]]\n",
    "plt.bar([\"result5\",\"result6\",\"result7\",\"result8\",\"resultPIV\"],checkList3)\n",
    "plt.show()\n",
    "for i in range(len(checkList3)-1):\n",
    "    print(\"%.4f\"%c5[1][i],end='\\t')\n",
    "print(\"最优f1值:\",c5[0])\n",
    "#*************************************利用八个算法协同判断,并求得最优参数***********************************\n",
    "c8=combine8Result(resultList,0.8)\n",
    "checkList4=list(map(lambda r : f1_score(y_test,r,average='weighted'),resultList))+[c4[0]]\n",
    "plt.bar([\"result1\",\"result2\",\"result3\",\"result4\",\"result5\",\"result6\",\"result7\",\"result8\",\"resultPIV\"],checkList4)\n",
    "plt.show()\n",
    "for i in range(len(checkList4)-1):\n",
    "    print(\"%.4f\"%c8[1][i],end='\\t')\n",
    "print(\"最优f1值:\",c8[0])"
   ]
  },
  {
   "cell_type": "code",
   "execution_count": null,
   "id": "4a6f30a1",
   "metadata": {},
   "outputs": [],
   "source": []
  }
 ],
 "metadata": {
  "kernelspec": {
   "display_name": "Python 3 (ipykernel)",
   "language": "python",
   "name": "python3"
  },
  "language_info": {
   "codemirror_mode": {
    "name": "ipython",
    "version": 3
   },
   "file_extension": ".py",
   "mimetype": "text/x-python",
   "name": "python",
   "nbconvert_exporter": "python",
   "pygments_lexer": "ipython3",
   "version": "3.9.12"
  },
  "vscode": {
   "interpreter": {
    "hash": "369f2c481f4da34e4445cda3fffd2e751bd1c4d706f27375911949ba6bb62e1c"
   }
  }
 },
 "nbformat": 4,
 "nbformat_minor": 5
}
